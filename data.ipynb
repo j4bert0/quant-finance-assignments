{
 "cells": [
  {
   "cell_type": "markdown",
   "metadata": {},
   "source": [
    "# Preparing the data (Jaakko Wallenius, Quantitative Finance 28E35600)"
   ]
  },
  {
   "cell_type": "markdown",
   "metadata": {},
   "source": [
    "**Note**: Pandas may fail when using Windows os due to memory allocation limitation (raises **MemoryError**). In case this happens, rerun the code. More on this:\n",
    "\n",
    "https://stackoverflow.com/questions/17557074/memory-error-when-using-pandas-read-csv"
   ]
  },
  {
   "cell_type": "markdown",
   "metadata": {},
   "source": [
    "In this file the data is prepared for the assignments."
   ]
  },
  {
   "cell_type": "markdown",
   "metadata": {},
   "source": [
    "# CRSP dataset"
   ]
  },
  {
   "cell_type": "code",
   "execution_count": 1,
   "metadata": {},
   "outputs": [],
   "source": [
    "import pandas as pd\n",
    "import numpy as np\n",
    "pd.options.mode.chained_assignment = None"
   ]
  },
  {
   "cell_type": "code",
   "execution_count": 2,
   "metadata": {},
   "outputs": [],
   "source": [
    "data = pd.read_csv('crsp.csv')"
   ]
  },
  {
   "cell_type": "markdown",
   "metadata": {},
   "source": [
    "Number of observations in the unadjusted data"
   ]
  },
  {
   "cell_type": "code",
   "execution_count": 3,
   "metadata": {},
   "outputs": [
    {
     "data": {
      "text/plain": [
       "207957"
      ]
     },
     "execution_count": 3,
     "metadata": {},
     "output_type": "execute_result"
    }
   ],
   "source": [
    "data['RET'].size"
   ]
  },
  {
   "cell_type": "code",
   "execution_count": 4,
   "metadata": {},
   "outputs": [
    {
     "data": {
      "text/plain": [
       "PERMNO       int64\n",
       "date        object\n",
       "SHRCD        int64\n",
       "EXCHCD       int64\n",
       "TICKER      object\n",
       "COMNAM      object\n",
       "NAICS      float64\n",
       "PERMCO       int64\n",
       "CUSIP       object\n",
       "DLAMT      float64\n",
       "DLPDT       object\n",
       "DLSTCD     float64\n",
       "DISTCD     float64\n",
       "DIVAMT     float64\n",
       "FACPR      float64\n",
       "FACSHR     float64\n",
       "DLRETX      object\n",
       "DLPRC      float64\n",
       "DLRET       object\n",
       "NSDINX     float64\n",
       "BIDLO      float64\n",
       "ASKHI      float64\n",
       "PRC        float64\n",
       "VOL          int64\n",
       "RET         object\n",
       "SHROUT       int64\n",
       "CFACPR     float64\n",
       "CFACSHR    float64\n",
       "SPREAD     float64\n",
       "vwretd     float64\n",
       "dtype: object"
      ]
     },
     "execution_count": 4,
     "metadata": {},
     "output_type": "execute_result"
    }
   ],
   "source": [
    "data.dtypes"
   ]
  },
  {
   "cell_type": "markdown",
   "metadata": {},
   "source": [
    "## Adjustments"
   ]
  },
  {
   "cell_type": "markdown",
   "metadata": {},
   "source": [
    "$RET=C$ observations stand for 'No valid previous price'"
   ]
  },
  {
   "cell_type": "code",
   "execution_count": 5,
   "metadata": {},
   "outputs": [
    {
     "name": "stdout",
     "output_type": "stream",
     "text": [
      "There are 972 such observations.\n"
     ]
    }
   ],
   "source": [
    "print('There are {} such observations.'.format(data.loc[data['RET'] == 'C']['RET'].size))"
   ]
  },
  {
   "cell_type": "markdown",
   "metadata": {},
   "source": [
    "These are excluded from the dataset."
   ]
  },
  {
   "cell_type": "code",
   "execution_count": 6,
   "metadata": {},
   "outputs": [],
   "source": [
    "data = data.loc[data['RET'] != 'C']"
   ]
  },
  {
   "cell_type": "markdown",
   "metadata": {},
   "source": [
    "Only observations with sharecodes $10$ or $11$ are interesting. (Ordinary common shares of US stocks)"
   ]
  },
  {
   "cell_type": "code",
   "execution_count": 7,
   "metadata": {},
   "outputs": [],
   "source": [
    "data = data.loc[(data['SHRCD'] == 10) | (data['SHRCD'] == 11)]"
   ]
  },
  {
   "cell_type": "code",
   "execution_count": 8,
   "metadata": {},
   "outputs": [
    {
     "data": {
      "text/plain": [
       "206985"
      ]
     },
     "execution_count": 8,
     "metadata": {},
     "output_type": "execute_result"
    }
   ],
   "source": [
    "data['RET'].size # After adjusting, the observations count should equal this"
   ]
  },
  {
   "cell_type": "markdown",
   "metadata": {},
   "source": [
    "Delisting returns are adjusted according to Shumway (1997) procedure."
   ]
  },
  {
   "cell_type": "markdown",
   "metadata": {},
   "source": [
    "If $DLRET$ is non-Nan for an observation, then the observation should (likely) be adjusted."
   ]
  },
  {
   "cell_type": "code",
   "execution_count": 9,
   "metadata": {},
   "outputs": [
    {
     "data": {
      "text/plain": [
       "203449"
      ]
     },
     "execution_count": 9,
     "metadata": {},
     "output_type": "execute_result"
    }
   ],
   "source": [
    "non_dl_data = data.loc[data['DLRET'].isnull()] # no need for adjustment\n",
    "non_dl_data['RET'].size"
   ]
  },
  {
   "cell_type": "code",
   "execution_count": 10,
   "metadata": {},
   "outputs": [
    {
     "data": {
      "text/plain": [
       "3536"
      ]
     },
     "execution_count": 10,
     "metadata": {},
     "output_type": "execute_result"
    }
   ],
   "source": [
    "dl_rets = data.loc[data['DLRET'].notnull()] # need for adjustment\n",
    "dl_rets['RET'].size"
   ]
  },
  {
   "cell_type": "code",
   "execution_count": 11,
   "metadata": {},
   "outputs": [
    {
     "name": "stdout",
     "output_type": "stream",
     "text": [
      "Of these 3380 have DLRET value A (Security is still active) and 1 have DLRET value S\n",
      "(CRSP has no source to establish a value after delisting)\n"
     ]
    }
   ],
   "source": [
    "A_s = dl_rets.loc[dl_rets['DLRET'] == 'A']['RET'].size\n",
    "S_s = dl_rets.loc[dl_rets['DLRET'] == 'S']['RET'].size\n",
    "print('Of these {} have DLRET value A (Security is still active) and {} have DLRET value S\\n(CRSP has no source to establish a value after delisting)'.format(A_s,S_s))"
   ]
  },
  {
   "cell_type": "code",
   "execution_count": 12,
   "metadata": {},
   "outputs": [
    {
     "data": {
      "text/html": [
       "<div>\n",
       "<style scoped>\n",
       "    .dataframe tbody tr th:only-of-type {\n",
       "        vertical-align: middle;\n",
       "    }\n",
       "\n",
       "    .dataframe tbody tr th {\n",
       "        vertical-align: top;\n",
       "    }\n",
       "\n",
       "    .dataframe thead th {\n",
       "        text-align: right;\n",
       "    }\n",
       "</style>\n",
       "<table border=\"1\" class=\"dataframe\">\n",
       "  <thead>\n",
       "    <tr style=\"text-align: right;\">\n",
       "      <th></th>\n",
       "      <th>COMNAM</th>\n",
       "      <th>DLSTCD</th>\n",
       "      <th>DLRET</th>\n",
       "      <th>RET</th>\n",
       "    </tr>\n",
       "  </thead>\n",
       "  <tbody>\n",
       "    <tr>\n",
       "      <td>1514</td>\n",
       "      <td>STEEL EXCEL INC</td>\n",
       "      <td>570.0</td>\n",
       "      <td>-0.031926</td>\n",
       "      <td>-0.320028</td>\n",
       "    </tr>\n",
       "    <tr>\n",
       "      <td>1688</td>\n",
       "      <td>T C F FINANCIAL CORP</td>\n",
       "      <td>231.0</td>\n",
       "      <td>-0.021349</td>\n",
       "      <td>0.028379</td>\n",
       "    </tr>\n",
       "    <tr>\n",
       "      <td>3202</td>\n",
       "      <td>RENTRAK CORP</td>\n",
       "      <td>231.0</td>\n",
       "      <td>0.008545</td>\n",
       "      <td>-0.064380</td>\n",
       "    </tr>\n",
       "    <tr>\n",
       "      <td>4090</td>\n",
       "      <td>AMERIANA BANCORP</td>\n",
       "      <td>231.0</td>\n",
       "      <td>-0.030849</td>\n",
       "      <td>-0.055921</td>\n",
       "    </tr>\n",
       "    <tr>\n",
       "      <td>6681</td>\n",
       "      <td>DU PONT E I DE NEMOURS &amp; CO</td>\n",
       "      <td>231.0</td>\n",
       "      <td>0.026150</td>\n",
       "      <td>0.020922</td>\n",
       "    </tr>\n",
       "  </tbody>\n",
       "</table>\n",
       "</div>"
      ],
      "text/plain": [
       "                           COMNAM  DLSTCD      DLRET        RET\n",
       "1514              STEEL EXCEL INC   570.0  -0.031926  -0.320028\n",
       "1688         T C F FINANCIAL CORP   231.0  -0.021349   0.028379\n",
       "3202                 RENTRAK CORP   231.0   0.008545  -0.064380\n",
       "4090             AMERIANA BANCORP   231.0  -0.030849  -0.055921\n",
       "6681  DU PONT E I DE NEMOURS & CO   231.0   0.026150   0.020922"
      ]
     },
     "execution_count": 12,
     "metadata": {},
     "output_type": "execute_result"
    }
   ],
   "source": [
    "df_rets_no_adjust = dl_rets.loc[dl_rets['DLRET'] == 'A']\n",
    "dl_rets_has_dlret = dl_rets.loc[(dl_rets['DLRET'] != 'A') & (dl_rets['DLRET'] != 'S')]\n",
    "dl_rets_has_dlret[['COMNAM','DLSTCD','DLRET','RET']].head()"
   ]
  },
  {
   "cell_type": "code",
   "execution_count": 13,
   "metadata": {},
   "outputs": [
    {
     "data": {
      "text/plain": [
       "155"
      ]
     },
     "execution_count": 13,
     "metadata": {},
     "output_type": "execute_result"
    }
   ],
   "source": [
    "dl_rets_has_dlret['RET'].size"
   ]
  },
  {
   "cell_type": "markdown",
   "metadata": {},
   "source": [
    "Following Shumway (1997) procedure; for the above observations we use $DLRET$ instead of $RET$ for the realized holding period return."
   ]
  },
  {
   "cell_type": "code",
   "execution_count": 14,
   "metadata": {},
   "outputs": [
    {
     "data": {
      "text/html": [
       "<div>\n",
       "<style scoped>\n",
       "    .dataframe tbody tr th:only-of-type {\n",
       "        vertical-align: middle;\n",
       "    }\n",
       "\n",
       "    .dataframe tbody tr th {\n",
       "        vertical-align: top;\n",
       "    }\n",
       "\n",
       "    .dataframe thead th {\n",
       "        text-align: right;\n",
       "    }\n",
       "</style>\n",
       "<table border=\"1\" class=\"dataframe\">\n",
       "  <thead>\n",
       "    <tr style=\"text-align: right;\">\n",
       "      <th></th>\n",
       "      <th>COMNAM</th>\n",
       "      <th>DLSTCD</th>\n",
       "      <th>DLRET</th>\n",
       "      <th>RET</th>\n",
       "    </tr>\n",
       "  </thead>\n",
       "  <tbody>\n",
       "    <tr>\n",
       "      <td>1514</td>\n",
       "      <td>STEEL EXCEL INC</td>\n",
       "      <td>570.0</td>\n",
       "      <td>-0.031926</td>\n",
       "      <td>-0.031926</td>\n",
       "    </tr>\n",
       "    <tr>\n",
       "      <td>1688</td>\n",
       "      <td>T C F FINANCIAL CORP</td>\n",
       "      <td>231.0</td>\n",
       "      <td>-0.021349</td>\n",
       "      <td>-0.021349</td>\n",
       "    </tr>\n",
       "    <tr>\n",
       "      <td>3202</td>\n",
       "      <td>RENTRAK CORP</td>\n",
       "      <td>231.0</td>\n",
       "      <td>0.008545</td>\n",
       "      <td>0.008545</td>\n",
       "    </tr>\n",
       "    <tr>\n",
       "      <td>4090</td>\n",
       "      <td>AMERIANA BANCORP</td>\n",
       "      <td>231.0</td>\n",
       "      <td>-0.030849</td>\n",
       "      <td>-0.030849</td>\n",
       "    </tr>\n",
       "    <tr>\n",
       "      <td>6681</td>\n",
       "      <td>DU PONT E I DE NEMOURS &amp; CO</td>\n",
       "      <td>231.0</td>\n",
       "      <td>0.026150</td>\n",
       "      <td>0.026150</td>\n",
       "    </tr>\n",
       "  </tbody>\n",
       "</table>\n",
       "</div>"
      ],
      "text/plain": [
       "                           COMNAM  DLSTCD      DLRET        RET\n",
       "1514              STEEL EXCEL INC   570.0  -0.031926  -0.031926\n",
       "1688         T C F FINANCIAL CORP   231.0  -0.021349  -0.021349\n",
       "3202                 RENTRAK CORP   231.0   0.008545   0.008545\n",
       "4090             AMERIANA BANCORP   231.0  -0.030849  -0.030849\n",
       "6681  DU PONT E I DE NEMOURS & CO   231.0   0.026150   0.026150"
      ]
     },
     "execution_count": 14,
     "metadata": {},
     "output_type": "execute_result"
    }
   ],
   "source": [
    "dl_rets_has_dlret['RET'] = dl_rets_has_dlret['DLRET']\n",
    "dl_rets_has_dlret[['COMNAM','DLSTCD','DLRET','RET']].head()"
   ]
  },
  {
   "cell_type": "code",
   "execution_count": 15,
   "metadata": {},
   "outputs": [
    {
     "data": {
      "text/html": [
       "<div>\n",
       "<style scoped>\n",
       "    .dataframe tbody tr th:only-of-type {\n",
       "        vertical-align: middle;\n",
       "    }\n",
       "\n",
       "    .dataframe tbody tr th {\n",
       "        vertical-align: top;\n",
       "    }\n",
       "\n",
       "    .dataframe thead th {\n",
       "        text-align: right;\n",
       "    }\n",
       "</style>\n",
       "<table border=\"1\" class=\"dataframe\">\n",
       "  <thead>\n",
       "    <tr style=\"text-align: right;\">\n",
       "      <th></th>\n",
       "      <th>COMNAM</th>\n",
       "      <th>DLSTCD</th>\n",
       "      <th>DLRET</th>\n",
       "      <th>RET</th>\n",
       "    </tr>\n",
       "  </thead>\n",
       "  <tbody>\n",
       "    <tr>\n",
       "      <td>28342</td>\n",
       "      <td>TOBIRA THERAPEUTICS INC</td>\n",
       "      <td>242.0</td>\n",
       "      <td>S</td>\n",
       "      <td>0.059134</td>\n",
       "    </tr>\n",
       "  </tbody>\n",
       "</table>\n",
       "</div>"
      ],
      "text/plain": [
       "                        COMNAM  DLSTCD DLRET       RET\n",
       "28342  TOBIRA THERAPEUTICS INC   242.0     S  0.059134"
      ]
     },
     "execution_count": 15,
     "metadata": {},
     "output_type": "execute_result"
    }
   ],
   "source": [
    "dl_rets_has_nodl = dl_rets.loc[dl_rets['DLRET'] == 'S']\n",
    "dl_rets_has_nodl[['COMNAM','DLSTCD','DLRET','RET']]"
   ]
  },
  {
   "cell_type": "markdown",
   "metadata": {},
   "source": [
    "For the above observation, $DLRET$ is not available. Its $DLSTCD$ $\\notin \\{ \\textrm{\"500, 520, between 551\n",
    "and 573 inclusive, 574, 580, or 584\"} \\}$ hence we set its return to $-1$."
   ]
  },
  {
   "cell_type": "code",
   "execution_count": 16,
   "metadata": {},
   "outputs": [
    {
     "data": {
      "text/html": [
       "<div>\n",
       "<style scoped>\n",
       "    .dataframe tbody tr th:only-of-type {\n",
       "        vertical-align: middle;\n",
       "    }\n",
       "\n",
       "    .dataframe tbody tr th {\n",
       "        vertical-align: top;\n",
       "    }\n",
       "\n",
       "    .dataframe thead th {\n",
       "        text-align: right;\n",
       "    }\n",
       "</style>\n",
       "<table border=\"1\" class=\"dataframe\">\n",
       "  <thead>\n",
       "    <tr style=\"text-align: right;\">\n",
       "      <th></th>\n",
       "      <th>COMNAM</th>\n",
       "      <th>DLSTCD</th>\n",
       "      <th>DLRET</th>\n",
       "      <th>RET</th>\n",
       "    </tr>\n",
       "  </thead>\n",
       "  <tbody>\n",
       "    <tr>\n",
       "      <td>28342</td>\n",
       "      <td>TOBIRA THERAPEUTICS INC</td>\n",
       "      <td>242.0</td>\n",
       "      <td>S</td>\n",
       "      <td>-1</td>\n",
       "    </tr>\n",
       "  </tbody>\n",
       "</table>\n",
       "</div>"
      ],
      "text/plain": [
       "                        COMNAM  DLSTCD DLRET  RET\n",
       "28342  TOBIRA THERAPEUTICS INC   242.0     S   -1"
      ]
     },
     "execution_count": 16,
     "metadata": {},
     "output_type": "execute_result"
    }
   ],
   "source": [
    "dl_rets_has_nodl['RET'] = -1\n",
    "dl_rets_has_nodl[['COMNAM','DLSTCD','DLRET','RET']]"
   ]
  },
  {
   "cell_type": "code",
   "execution_count": 17,
   "metadata": {},
   "outputs": [],
   "source": [
    "data = pd.concat([non_dl_data,df_rets_no_adjust,dl_rets_has_dlret,dl_rets_has_nodl]).sort_index()"
   ]
  },
  {
   "cell_type": "code",
   "execution_count": 18,
   "metadata": {},
   "outputs": [
    {
     "data": {
      "text/plain": [
       "206985"
      ]
     },
     "execution_count": 18,
     "metadata": {},
     "output_type": "execute_result"
    }
   ],
   "source": [
    "data['RET'].size # equals the pre-adjusting count"
   ]
  },
  {
   "cell_type": "markdown",
   "metadata": {},
   "source": [
    "## Other wrangling"
   ]
  },
  {
   "cell_type": "code",
   "execution_count": 19,
   "metadata": {},
   "outputs": [
    {
     "name": "stdout",
     "output_type": "stream",
     "text": [
      "Min and max of ME: (0.13806000000000002,1304764.72281735)\n"
     ]
    }
   ],
   "source": [
    "data[\"RET\"] = data[\"RET\"].astype('float64') # Conversion of RET: object -> float64 (string -> numeric)\n",
    "data[\"ME\"] = data[\"PRC\"] * data[\"SHROUT\"] / 1000\n",
    "print(\"Min and max of ME: ({},{})\".format(data[\"ME\"].min(),(data[\"ME\"].max())))"
   ]
  },
  {
   "cell_type": "code",
   "execution_count": 20,
   "metadata": {},
   "outputs": [],
   "source": [
    "def date_conversion(date):\n",
    "    # Changing date format DDMMMYYYY -> YYYYMM i.e. 30JAN2015 -> 201501\n",
    "    c = {'JAN' : '01', 'FEB' : '02', 'MAR' : '03', 'APR' : '04',\n",
    "         'MAY' : '05', 'JUN' : '06', 'JUL' : '07', 'AUG' : '08',\n",
    "         'SEP' : '09', 'OCT' : '10', 'NOV' : '11', 'DEC' : '12'}\n",
    "    return date[5:] + c[date[2:5]]\n",
    "\n",
    "v_date_conversion = np.vectorize(date_conversion)"
   ]
  },
  {
   "cell_type": "code",
   "execution_count": 21,
   "metadata": {},
   "outputs": [
    {
     "name": "stdout",
     "output_type": "stream",
     "text": [
      "Number of unique tickers: 5048\n",
      "Data range (date): 201501 to 201912\n",
      "Number of months: 60\n"
     ]
    },
    {
     "data": {
      "text/plain": [
       "array(['201501', '201502', '201503', '201504', '201505', '201506',\n",
       "       '201507', '201508', '201509', '201510', '201511', '201512',\n",
       "       '201601', '201602', '201603', '201604', '201605', '201606',\n",
       "       '201607', '201608', '201609', '201610', '201611', '201612',\n",
       "       '201701', '201702', '201703', '201704', '201705', '201706',\n",
       "       '201707', '201708', '201709', '201710', '201711', '201712',\n",
       "       '201801', '201802', '201803', '201804', '201805', '201806',\n",
       "       '201807', '201808', '201809', '201810', '201811', '201812',\n",
       "       '201901', '201902', '201903', '201904', '201905', '201906',\n",
       "       '201907', '201908', '201909', '201910', '201911', '201912'],\n",
       "      dtype=object)"
      ]
     },
     "execution_count": 21,
     "metadata": {},
     "output_type": "execute_result"
    }
   ],
   "source": [
    "print(\"Number of unique tickers: {}\".format(data[\"TICKER\"].nunique()))\n",
    "data[\"date\"] = v_date_conversion(data[\"date\"])\n",
    "print(\"Data range (date): {} to {}\".format(data[\"date\"].unique()[0], data[\"date\"].unique()[-1]))\n",
    "months = data[\"date\"].unique()\n",
    "print(\"Number of months: {}\".format(months.size))\n",
    "months"
   ]
  },
  {
   "cell_type": "code",
   "execution_count": 22,
   "metadata": {},
   "outputs": [],
   "source": [
    "def print_ret_table(df,first=3,last=3): return df.head(first).append(df.tail(last)) \n",
    "# helper for printing return tables for debugging"
   ]
  },
  {
   "cell_type": "markdown",
   "metadata": {},
   "source": [
    "References\n",
    "\n",
    "* Shumway, T. 1997. The delisting bias in CRSP data. *Journal of Finance*, 52(1), 327–340."
   ]
  },
  {
   "cell_type": "markdown",
   "metadata": {},
   "source": [
    "# Market value breakpoints"
   ]
  },
  {
   "cell_type": "markdown",
   "metadata": {},
   "source": [
    "I use data from https://mba.tuck.dartmouth.edu/pages/faculty/ken.french/data_library.html. From section 'U.S. Research Breakpoints Data' file ME breakpoints."
   ]
  },
  {
   "cell_type": "markdown",
   "metadata": {},
   "source": [
    "ME is price times shares outstanding (divided by 1,000,000) at month end."
   ]
  },
  {
   "cell_type": "code",
   "execution_count": 23,
   "metadata": {},
   "outputs": [],
   "source": [
    "breakpoints = pd.read_csv('ME_Breakpoints.csv',header=None,skiprows=1).rename(columns={0 : 'date'})\n",
    "breakpoints = breakpoints.loc[1069:(1069+5*12-1)].reset_index()"
   ]
  },
  {
   "cell_type": "code",
   "execution_count": 24,
   "metadata": {},
   "outputs": [
    {
     "name": "stdout",
     "output_type": "stream",
     "text": [
      "Max and min 100% percentile breakpoints: (321191.38,553773.25)\n"
     ]
    },
    {
     "data": {
      "text/html": [
       "<div>\n",
       "<style scoped>\n",
       "    .dataframe tbody tr th:only-of-type {\n",
       "        vertical-align: middle;\n",
       "    }\n",
       "\n",
       "    .dataframe tbody tr th {\n",
       "        vertical-align: top;\n",
       "    }\n",
       "\n",
       "    .dataframe thead th {\n",
       "        text-align: right;\n",
       "    }\n",
       "</style>\n",
       "<table border=\"1\" class=\"dataframe\">\n",
       "  <thead>\n",
       "    <tr style=\"text-align: right;\">\n",
       "      <th></th>\n",
       "      <th>index</th>\n",
       "      <th>date</th>\n",
       "      <th>1</th>\n",
       "      <th>2</th>\n",
       "      <th>3</th>\n",
       "      <th>4</th>\n",
       "      <th>5</th>\n",
       "      <th>6</th>\n",
       "      <th>7</th>\n",
       "      <th>8</th>\n",
       "      <th>...</th>\n",
       "      <th>12</th>\n",
       "      <th>13</th>\n",
       "      <th>14</th>\n",
       "      <th>15</th>\n",
       "      <th>16</th>\n",
       "      <th>17</th>\n",
       "      <th>18</th>\n",
       "      <th>19</th>\n",
       "      <th>20</th>\n",
       "      <th>21</th>\n",
       "    </tr>\n",
       "  </thead>\n",
       "  <tbody>\n",
       "    <tr>\n",
       "      <td>0</td>\n",
       "      <td>1069</td>\n",
       "      <td>201501</td>\n",
       "      <td>1341.0</td>\n",
       "      <td>172.54</td>\n",
       "      <td>298.34</td>\n",
       "      <td>444.25</td>\n",
       "      <td>585.54</td>\n",
       "      <td>779.98</td>\n",
       "      <td>1056.65</td>\n",
       "      <td>1381.79</td>\n",
       "      <td>...</td>\n",
       "      <td>3302.10</td>\n",
       "      <td>3906.23</td>\n",
       "      <td>4893.42</td>\n",
       "      <td>6462.86</td>\n",
       "      <td>8339.49</td>\n",
       "      <td>10833.28</td>\n",
       "      <td>16621.37</td>\n",
       "      <td>25676.59</td>\n",
       "      <td>48413.76</td>\n",
       "      <td>370182.50</td>\n",
       "    </tr>\n",
       "    <tr>\n",
       "      <td>1</td>\n",
       "      <td>1070</td>\n",
       "      <td>201502</td>\n",
       "      <td>1338.0</td>\n",
       "      <td>184.65</td>\n",
       "      <td>321.34</td>\n",
       "      <td>475.15</td>\n",
       "      <td>634.81</td>\n",
       "      <td>849.76</td>\n",
       "      <td>1164.94</td>\n",
       "      <td>1473.23</td>\n",
       "      <td>...</td>\n",
       "      <td>3486.73</td>\n",
       "      <td>4133.06</td>\n",
       "      <td>5124.59</td>\n",
       "      <td>6883.27</td>\n",
       "      <td>8869.60</td>\n",
       "      <td>11496.35</td>\n",
       "      <td>16816.82</td>\n",
       "      <td>27426.48</td>\n",
       "      <td>50140.73</td>\n",
       "      <td>371397.84</td>\n",
       "    </tr>\n",
       "    <tr>\n",
       "      <td>2</td>\n",
       "      <td>1071</td>\n",
       "      <td>201503</td>\n",
       "      <td>1332.0</td>\n",
       "      <td>190.22</td>\n",
       "      <td>315.79</td>\n",
       "      <td>481.98</td>\n",
       "      <td>644.13</td>\n",
       "      <td>866.37</td>\n",
       "      <td>1198.06</td>\n",
       "      <td>1480.68</td>\n",
       "      <td>...</td>\n",
       "      <td>3519.21</td>\n",
       "      <td>4176.21</td>\n",
       "      <td>5214.60</td>\n",
       "      <td>6929.15</td>\n",
       "      <td>8785.98</td>\n",
       "      <td>11427.68</td>\n",
       "      <td>16872.71</td>\n",
       "      <td>27569.83</td>\n",
       "      <td>48549.13</td>\n",
       "      <td>356548.66</td>\n",
       "    </tr>\n",
       "    <tr>\n",
       "      <td>57</td>\n",
       "      <td>1126</td>\n",
       "      <td>201910</td>\n",
       "      <td>1206.0</td>\n",
       "      <td>144.79</td>\n",
       "      <td>267.96</td>\n",
       "      <td>423.71</td>\n",
       "      <td>638.88</td>\n",
       "      <td>891.88</td>\n",
       "      <td>1175.80</td>\n",
       "      <td>1533.27</td>\n",
       "      <td>...</td>\n",
       "      <td>3802.58</td>\n",
       "      <td>4896.10</td>\n",
       "      <td>5775.65</td>\n",
       "      <td>8066.26</td>\n",
       "      <td>10506.56</td>\n",
       "      <td>14291.26</td>\n",
       "      <td>21047.95</td>\n",
       "      <td>34477.98</td>\n",
       "      <td>63052.75</td>\n",
       "      <td>521148.69</td>\n",
       "    </tr>\n",
       "    <tr>\n",
       "      <td>58</td>\n",
       "      <td>1127</td>\n",
       "      <td>201911</td>\n",
       "      <td>1204.0</td>\n",
       "      <td>150.47</td>\n",
       "      <td>266.28</td>\n",
       "      <td>430.04</td>\n",
       "      <td>659.77</td>\n",
       "      <td>908.04</td>\n",
       "      <td>1233.44</td>\n",
       "      <td>1585.20</td>\n",
       "      <td>...</td>\n",
       "      <td>3949.01</td>\n",
       "      <td>4982.46</td>\n",
       "      <td>6112.37</td>\n",
       "      <td>8387.76</td>\n",
       "      <td>10885.17</td>\n",
       "      <td>15059.09</td>\n",
       "      <td>21955.21</td>\n",
       "      <td>35503.64</td>\n",
       "      <td>64680.46</td>\n",
       "      <td>538756.88</td>\n",
       "    </tr>\n",
       "    <tr>\n",
       "      <td>59</td>\n",
       "      <td>1128</td>\n",
       "      <td>201912</td>\n",
       "      <td>1189.0</td>\n",
       "      <td>165.02</td>\n",
       "      <td>304.02</td>\n",
       "      <td>452.44</td>\n",
       "      <td>745.37</td>\n",
       "      <td>990.02</td>\n",
       "      <td>1297.37</td>\n",
       "      <td>1651.30</td>\n",
       "      <td>...</td>\n",
       "      <td>4122.56</td>\n",
       "      <td>5243.03</td>\n",
       "      <td>6273.43</td>\n",
       "      <td>8492.98</td>\n",
       "      <td>11123.07</td>\n",
       "      <td>15181.22</td>\n",
       "      <td>22400.21</td>\n",
       "      <td>36860.46</td>\n",
       "      <td>68168.56</td>\n",
       "      <td>553773.25</td>\n",
       "    </tr>\n",
       "  </tbody>\n",
       "</table>\n",
       "<p>6 rows × 23 columns</p>\n",
       "</div>"
      ],
      "text/plain": [
       "    index    date       1       2       3       4       5       6        7  \\\n",
       "0    1069  201501  1341.0  172.54  298.34  444.25  585.54  779.98  1056.65   \n",
       "1    1070  201502  1338.0  184.65  321.34  475.15  634.81  849.76  1164.94   \n",
       "2    1071  201503  1332.0  190.22  315.79  481.98  644.13  866.37  1198.06   \n",
       "57   1126  201910  1206.0  144.79  267.96  423.71  638.88  891.88  1175.80   \n",
       "58   1127  201911  1204.0  150.47  266.28  430.04  659.77  908.04  1233.44   \n",
       "59   1128  201912  1189.0  165.02  304.02  452.44  745.37  990.02  1297.37   \n",
       "\n",
       "          8  ...       12       13       14       15        16        17  \\\n",
       "0   1381.79  ...  3302.10  3906.23  4893.42  6462.86   8339.49  10833.28   \n",
       "1   1473.23  ...  3486.73  4133.06  5124.59  6883.27   8869.60  11496.35   \n",
       "2   1480.68  ...  3519.21  4176.21  5214.60  6929.15   8785.98  11427.68   \n",
       "57  1533.27  ...  3802.58  4896.10  5775.65  8066.26  10506.56  14291.26   \n",
       "58  1585.20  ...  3949.01  4982.46  6112.37  8387.76  10885.17  15059.09   \n",
       "59  1651.30  ...  4122.56  5243.03  6273.43  8492.98  11123.07  15181.22   \n",
       "\n",
       "          18        19        20         21  \n",
       "0   16621.37  25676.59  48413.76  370182.50  \n",
       "1   16816.82  27426.48  50140.73  371397.84  \n",
       "2   16872.71  27569.83  48549.13  356548.66  \n",
       "57  21047.95  34477.98  63052.75  521148.69  \n",
       "58  21955.21  35503.64  64680.46  538756.88  \n",
       "59  22400.21  36860.46  68168.56  553773.25  \n",
       "\n",
       "[6 rows x 23 columns]"
      ]
     },
     "execution_count": 24,
     "metadata": {},
     "output_type": "execute_result"
    }
   ],
   "source": [
    "print('Max and min 100% percentile breakpoints: ({},{})'.format(breakpoints[21].min(),breakpoints[21].max()))\n",
    "print_ret_table(breakpoints)"
   ]
  },
  {
   "cell_type": "markdown",
   "metadata": {},
   "source": [
    "# Factors dataset"
   ]
  },
  {
   "cell_type": "markdown",
   "metadata": {},
   "source": [
    "I use data from https://mba.tuck.dartmouth.edu/pages/faculty/ken.french/data_library.html.\n",
    "From section \"Developed Markets Factors and Returns\" file Fama/French North American 5 Factors."
   ]
  },
  {
   "cell_type": "code",
   "execution_count": 25,
   "metadata": {},
   "outputs": [],
   "source": [
    "factors = pd.read_csv('North_America_5_Factors.csv',skiprows=6)"
   ]
  },
  {
   "cell_type": "code",
   "execution_count": 26,
   "metadata": {},
   "outputs": [
    {
     "data": {
      "text/plain": [
       "index          int64\n",
       "Unnamed: 0    object\n",
       "Mkt-RF        object\n",
       "SMB           object\n",
       "HML           object\n",
       "RMW           object\n",
       "CMA           object\n",
       "RF            object\n",
       "dtype: object"
      ]
     },
     "execution_count": 26,
     "metadata": {},
     "output_type": "execute_result"
    }
   ],
   "source": [
    "factors = factors.loc[294:(294+5*12-1)].reset_index() # 201501 to 201912\n",
    "factors.dtypes"
   ]
  },
  {
   "cell_type": "code",
   "execution_count": 27,
   "metadata": {},
   "outputs": [
    {
     "data": {
      "text/html": [
       "<div>\n",
       "<style scoped>\n",
       "    .dataframe tbody tr th:only-of-type {\n",
       "        vertical-align: middle;\n",
       "    }\n",
       "\n",
       "    .dataframe tbody tr th {\n",
       "        vertical-align: top;\n",
       "    }\n",
       "\n",
       "    .dataframe thead th {\n",
       "        text-align: right;\n",
       "    }\n",
       "</style>\n",
       "<table border=\"1\" class=\"dataframe\">\n",
       "  <thead>\n",
       "    <tr style=\"text-align: right;\">\n",
       "      <th></th>\n",
       "      <th>index</th>\n",
       "      <th>Mkt-RF</th>\n",
       "      <th>SMB</th>\n",
       "      <th>HML</th>\n",
       "      <th>RMW</th>\n",
       "      <th>CMA</th>\n",
       "      <th>RF</th>\n",
       "    </tr>\n",
       "  </thead>\n",
       "  <tbody>\n",
       "    <tr>\n",
       "      <td>0</td>\n",
       "      <td>2.94</td>\n",
       "      <td>-0.0347</td>\n",
       "      <td>-0.0119</td>\n",
       "      <td>-0.0389</td>\n",
       "      <td>0.0214</td>\n",
       "      <td>-0.0111</td>\n",
       "      <td>0.0000</td>\n",
       "    </tr>\n",
       "    <tr>\n",
       "      <td>1</td>\n",
       "      <td>2.95</td>\n",
       "      <td>0.0615</td>\n",
       "      <td>0.0057</td>\n",
       "      <td>-0.0136</td>\n",
       "      <td>-0.0105</td>\n",
       "      <td>-0.0196</td>\n",
       "      <td>0.0000</td>\n",
       "    </tr>\n",
       "    <tr>\n",
       "      <td>2</td>\n",
       "      <td>2.96</td>\n",
       "      <td>-0.0120</td>\n",
       "      <td>0.0250</td>\n",
       "      <td>-0.0093</td>\n",
       "      <td>0.0000</td>\n",
       "      <td>-0.0056</td>\n",
       "      <td>0.0000</td>\n",
       "    </tr>\n",
       "    <tr>\n",
       "      <td>57</td>\n",
       "      <td>3.51</td>\n",
       "      <td>0.0183</td>\n",
       "      <td>0.0002</td>\n",
       "      <td>-0.0147</td>\n",
       "      <td>0.0105</td>\n",
       "      <td>-0.0094</td>\n",
       "      <td>0.0015</td>\n",
       "    </tr>\n",
       "    <tr>\n",
       "      <td>58</td>\n",
       "      <td>3.52</td>\n",
       "      <td>0.0380</td>\n",
       "      <td>0.0021</td>\n",
       "      <td>-0.0279</td>\n",
       "      <td>-0.0167</td>\n",
       "      <td>-0.0139</td>\n",
       "      <td>0.0012</td>\n",
       "    </tr>\n",
       "    <tr>\n",
       "      <td>59</td>\n",
       "      <td>3.53</td>\n",
       "      <td>0.0279</td>\n",
       "      <td>0.0082</td>\n",
       "      <td>0.0143</td>\n",
       "      <td>-0.0020</td>\n",
       "      <td>0.0155</td>\n",
       "      <td>0.0014</td>\n",
       "    </tr>\n",
       "  </tbody>\n",
       "</table>\n",
       "</div>"
      ],
      "text/plain": [
       "    index  Mkt-RF     SMB     HML     RMW     CMA      RF\n",
       "0    2.94 -0.0347 -0.0119 -0.0389  0.0214 -0.0111  0.0000\n",
       "1    2.95  0.0615  0.0057 -0.0136 -0.0105 -0.0196  0.0000\n",
       "2    2.96 -0.0120  0.0250 -0.0093  0.0000 -0.0056  0.0000\n",
       "57   3.51  0.0183  0.0002 -0.0147  0.0105 -0.0094  0.0015\n",
       "58   3.52  0.0380  0.0021 -0.0279 -0.0167 -0.0139  0.0012\n",
       "59   3.53  0.0279  0.0082  0.0143 -0.0020  0.0155  0.0014"
      ]
     },
     "execution_count": 27,
     "metadata": {},
     "output_type": "execute_result"
    }
   ],
   "source": [
    "factors = factors.drop('Unnamed: 0',1).astype('float64').multiply(1/100) # scale entries to percentages\n",
    "print_ret_table(factors)"
   ]
  },
  {
   "cell_type": "markdown",
   "metadata": {},
   "source": [
    "The $Mkt-RF$ factor is replaced by another market factor constructed as:\n",
    "\n",
    "$(Mkt-RF)_{New}:=vwretd-RF$"
   ]
  },
  {
   "cell_type": "code",
   "execution_count": 28,
   "metadata": {},
   "outputs": [],
   "source": [
    "factors = factors.drop('Mkt-RF',axis=1)\n",
    "vwret = data.loc[data['PERMNO'] == 93436]['vwretd'] # PERMNO 93436 (Tesla) has 'full' observations\n",
    "factors['vwret'] = vwret.values\n",
    "factors['Mkt-RF'] = factors['vwret'] - factors['RF']"
   ]
  },
  {
   "cell_type": "code",
   "execution_count": 29,
   "metadata": {},
   "outputs": [
    {
     "data": {
      "text/html": [
       "<div>\n",
       "<style scoped>\n",
       "    .dataframe tbody tr th:only-of-type {\n",
       "        vertical-align: middle;\n",
       "    }\n",
       "\n",
       "    .dataframe tbody tr th {\n",
       "        vertical-align: top;\n",
       "    }\n",
       "\n",
       "    .dataframe thead th {\n",
       "        text-align: right;\n",
       "    }\n",
       "</style>\n",
       "<table border=\"1\" class=\"dataframe\">\n",
       "  <thead>\n",
       "    <tr style=\"text-align: right;\">\n",
       "      <th></th>\n",
       "      <th>index</th>\n",
       "      <th>SMB</th>\n",
       "      <th>HML</th>\n",
       "      <th>RMW</th>\n",
       "      <th>CMA</th>\n",
       "      <th>RF</th>\n",
       "      <th>vwret</th>\n",
       "      <th>Mkt-RF</th>\n",
       "    </tr>\n",
       "  </thead>\n",
       "  <tbody>\n",
       "    <tr>\n",
       "      <td>0</td>\n",
       "      <td>2.94</td>\n",
       "      <td>-0.0119</td>\n",
       "      <td>-0.0389</td>\n",
       "      <td>0.0214</td>\n",
       "      <td>-0.0111</td>\n",
       "      <td>0.0</td>\n",
       "      <td>-0.027201</td>\n",
       "      <td>-0.027201</td>\n",
       "    </tr>\n",
       "    <tr>\n",
       "      <td>1</td>\n",
       "      <td>2.95</td>\n",
       "      <td>0.0057</td>\n",
       "      <td>-0.0136</td>\n",
       "      <td>-0.0105</td>\n",
       "      <td>-0.0196</td>\n",
       "      <td>0.0</td>\n",
       "      <td>0.056021</td>\n",
       "      <td>0.056021</td>\n",
       "    </tr>\n",
       "    <tr>\n",
       "      <td>2</td>\n",
       "      <td>2.96</td>\n",
       "      <td>0.0250</td>\n",
       "      <td>-0.0093</td>\n",
       "      <td>0.0000</td>\n",
       "      <td>-0.0056</td>\n",
       "      <td>0.0</td>\n",
       "      <td>-0.010453</td>\n",
       "      <td>-0.010453</td>\n",
       "    </tr>\n",
       "    <tr>\n",
       "      <td>3</td>\n",
       "      <td>2.97</td>\n",
       "      <td>-0.0233</td>\n",
       "      <td>0.0337</td>\n",
       "      <td>-0.0064</td>\n",
       "      <td>-0.0032</td>\n",
       "      <td>0.0</td>\n",
       "      <td>0.008716</td>\n",
       "      <td>0.008716</td>\n",
       "    </tr>\n",
       "    <tr>\n",
       "      <td>4</td>\n",
       "      <td>2.98</td>\n",
       "      <td>0.0038</td>\n",
       "      <td>-0.0178</td>\n",
       "      <td>-0.0134</td>\n",
       "      <td>-0.0060</td>\n",
       "      <td>0.0</td>\n",
       "      <td>0.010345</td>\n",
       "      <td>0.010345</td>\n",
       "    </tr>\n",
       "  </tbody>\n",
       "</table>\n",
       "</div>"
      ],
      "text/plain": [
       "   index     SMB     HML     RMW     CMA   RF     vwret    Mkt-RF\n",
       "0   2.94 -0.0119 -0.0389  0.0214 -0.0111  0.0 -0.027201 -0.027201\n",
       "1   2.95  0.0057 -0.0136 -0.0105 -0.0196  0.0  0.056021  0.056021\n",
       "2   2.96  0.0250 -0.0093  0.0000 -0.0056  0.0 -0.010453 -0.010453\n",
       "3   2.97 -0.0233  0.0337 -0.0064 -0.0032  0.0  0.008716  0.008716\n",
       "4   2.98  0.0038 -0.0178 -0.0134 -0.0060  0.0  0.010345  0.010345"
      ]
     },
     "execution_count": 29,
     "metadata": {},
     "output_type": "execute_result"
    }
   ],
   "source": [
    "factors.head()"
   ]
  }
 ],
 "metadata": {
  "kernelspec": {
   "display_name": "Python 3",
   "language": "python",
   "name": "python3"
  },
  "language_info": {
   "codemirror_mode": {
    "name": "ipython",
    "version": 3
   },
   "file_extension": ".py",
   "mimetype": "text/x-python",
   "name": "python",
   "nbconvert_exporter": "python",
   "pygments_lexer": "ipython3",
   "version": "3.7.4"
  }
 },
 "nbformat": 4,
 "nbformat_minor": 2
}
